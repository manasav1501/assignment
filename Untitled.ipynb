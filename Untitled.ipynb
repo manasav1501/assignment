{
 "cells": [
  {
   "cell_type": "raw",
   "id": "021e46ff-6b82-4248-997b-ec8006ee8d0b",
   "metadata": {},
   "source": [
    "1) a)the first character cannot be a digit\n",
    "   b)the variable name can contain uppercase,lowercase,underscore and digits from 0 to 9\n",
    "   c)it is case sensitive,so u is different from U\n",
    "   d)restricted keywords like 'while' cannot be used to declare a variable"
   ]
  },
  {
   "cell_type": "raw",
   "id": "31fb8766-a3be-4e23-954a-d9fd8323cd62",
   "metadata": {},
   "source": [
    "2) we get syntax error"
   ]
  },
  {
   "cell_type": "raw",
   "id": "1fc60f39-14d9-467e-8d01-652ba7077680",
   "metadata": {},
   "source": [
    "3) yes"
   ]
  },
  {
   "cell_type": "raw",
   "id": "c71f5ade-ea90-402c-adf4-11964ccdaf21",
   "metadata": {},
   "source": [
    "4) no. example in next cell"
   ]
  },
  {
   "cell_type": "code",
   "execution_count": null,
   "id": "0b471164-eb41-4d60-92d6-228b188d317c",
   "metadata": {},
   "outputs": [],
   "source": [
    "\"_\" = 3"
   ]
  },
  {
   "cell_type": "code",
   "execution_count": 20,
   "id": "50815222-58fc-4f78-867b-250a11358338",
   "metadata": {},
   "outputs": [
    {
     "data": {
      "text/plain": [
       "'_'"
      ]
     },
     "execution_count": 20,
     "metadata": {},
     "output_type": "execute_result"
    }
   ],
   "source": [
    "\"_\""
   ]
  },
  {
   "cell_type": "raw",
   "id": "a712c3e3-8e2d-4f87-88a0-71c3f7346e87",
   "metadata": {},
   "source": [
    "5) they are dynamic because we can change the datatype of a variable easily.for example : below we see first a was an int type then we have easily changed it into float type"
   ]
  },
  {
   "cell_type": "code",
   "execution_count": 6,
   "id": "6e91d147-c0db-44c2-b1cd-710dbb7060a8",
   "metadata": {},
   "outputs": [],
   "source": [
    "a=5"
   ]
  },
  {
   "cell_type": "code",
   "execution_count": 7,
   "id": "de6168be-50c0-41ce-b1da-37174358aed6",
   "metadata": {},
   "outputs": [
    {
     "data": {
      "text/plain": [
       "int"
      ]
     },
     "execution_count": 7,
     "metadata": {},
     "output_type": "execute_result"
    }
   ],
   "source": [
    "type(a)"
   ]
  },
  {
   "cell_type": "code",
   "execution_count": 18,
   "id": "efec6c5c-726a-4c04-8c22-e5aefd49a76f",
   "metadata": {},
   "outputs": [],
   "source": [
    "a=345.89"
   ]
  },
  {
   "cell_type": "code",
   "execution_count": 19,
   "id": "f3dcc848-9f80-40b6-964a-0cbe1c1fce0d",
   "metadata": {},
   "outputs": [
    {
     "data": {
      "text/plain": [
       "float"
      ]
     },
     "execution_count": 19,
     "metadata": {},
     "output_type": "execute_result"
    }
   ],
   "source": [
    "type(a)"
   ]
  }
 ],
 "metadata": {
  "kernelspec": {
   "display_name": "Python 3 (ipykernel)",
   "language": "python",
   "name": "python3"
  },
  "language_info": {
   "codemirror_mode": {
    "name": "ipython",
    "version": 3
   },
   "file_extension": ".py",
   "mimetype": "text/x-python",
   "name": "python",
   "nbconvert_exporter": "python",
   "pygments_lexer": "ipython3",
   "version": "3.10.8"
  }
 },
 "nbformat": 4,
 "nbformat_minor": 5
}
